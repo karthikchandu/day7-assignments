{
 "cells": [
  {
   "cell_type": "code",
   "execution_count": 11,
   "metadata": {},
   "outputs": [
    {
     "name": "stdout",
     "output_type": "stream",
     "text": [
      "45\n"
     ]
    },
    {
     "data": {
      "text/plain": [
       "[4, 5]"
      ]
     },
     "execution_count": 11,
     "metadata": {},
     "output_type": "execute_result"
    }
   ],
   "source": [
    "num = int(input(\"\"))\n",
    "r= list(map(int,str(num)))\n",
    "r\n",
    "    "
   ]
  },
  {
   "cell_type": "code",
   "execution_count": 12,
   "metadata": {},
   "outputs": [
    {
     "name": "stdout",
     "output_type": "stream",
     "text": [
      "149\n",
      "5\n"
     ]
    }
   ],
   "source": [
    "#program to find the sum of the num \n",
    "\n",
    "num = int(input(\"\"))\n",
    "r= list(map(int,str(num)))\n",
    "r\n",
    "x = 0 \n",
    "z = 0\n",
    "for i in r:\n",
    "    x = x+i\n",
    "    \n",
    "r= list(map(int,str(x)))\n",
    "y = len(r)\n",
    "if y == 1:\n",
    "    \n",
    "    print(r)\n",
    "    \n",
    "    \n",
    "    \n",
    "else:\n",
    "    \n",
    "    p= list(map(int,str(x)))\n",
    "    p\n",
    "\n",
    "    for i in p:\n",
    "        \n",
    "        z = z+i\n",
    "        \n",
    "    print(z)\n",
    "            \n",
    "        \n",
    "    "
   ]
  },
  {
   "cell_type": "code",
   "execution_count": null,
   "metadata": {},
   "outputs": [],
   "source": []
  },
  {
   "cell_type": "code",
   "execution_count": null,
   "metadata": {},
   "outputs": [],
   "source": []
  }
 ],
 "metadata": {
  "kernelspec": {
   "display_name": "Python 3",
   "language": "python",
   "name": "python3"
  },
  "language_info": {
   "codemirror_mode": {
    "name": "ipython",
    "version": 3
   },
   "file_extension": ".py",
   "mimetype": "text/x-python",
   "name": "python",
   "nbconvert_exporter": "python",
   "pygments_lexer": "ipython3",
   "version": "3.7.4"
  }
 },
 "nbformat": 4,
 "nbformat_minor": 2
}
